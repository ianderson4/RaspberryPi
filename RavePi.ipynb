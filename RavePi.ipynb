{
 "cells": [
  {
   "cell_type": "code",
   "execution_count": 15,
   "metadata": {},
   "outputs": [
    {
     "name": "stdout",
     "output_type": "stream",
     "text": [
      "Current temperature in Arlington is: 46.4\n"
     ]
    }
   ],
   "source": [
    "from urllib.request import urlopen\n",
    "import json\n",
    "\n",
    "arl = urlopen('http://api.wunderground.com/api/f5cde2c5b4472de8/conditions/q/VA/ARLINGTON.json')\n",
    "json_string = arl.read()\n",
    "\n",
    "parsed_json = json.loads(json_string)\n",
    "\n",
    "location = parsed_json['current_observation']['display_location']['city']\n",
    "\n",
    "temp_f = parsed_json['current_observation']['temp_f']\n",
    "\n",
    "print(\"Current temperature in {} is: {}\".format(location, temp_f))\n",
    "\n",
    "arl.close()"
   ]
  }
 ],
 "metadata": {
  "kernelspec": {
   "display_name": "Python 3",
   "language": "python",
   "name": "python3"
  },
  "language_info": {
   "codemirror_mode": {
    "name": "ipython",
    "version": 3
   },
   "file_extension": ".py",
   "mimetype": "text/x-python",
   "name": "python",
   "nbconvert_exporter": "python",
   "pygments_lexer": "ipython3",
   "version": "3.6.3"
  }
 },
 "nbformat": 4,
 "nbformat_minor": 2
}
